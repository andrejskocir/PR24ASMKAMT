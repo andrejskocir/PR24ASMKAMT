{
 "cells": [
  {
   "cell_type": "markdown",
   "metadata": {},
   "source": [
    "## Olimpijske igre"
   ]
  },
  {
   "cell_type": "markdown",
   "metadata": {},
   "source": [
    "### Opis problematike"
   ]
  },
  {
   "cell_type": "markdown",
   "metadata": {},
   "source": [
    "Ti podatki predstavljajo informacije o podeljenih medaljah na olimpijskih igrah, vključno z državami dobitnicami, disciplinami, v katerih so bile medalje podeljene, vrsto medalje, ime olimpijskega mesta, leto olimpijskih iger, sezono (poletne ali zimske), spolom zmagovalca, oznako države, komitejem in vrsto komiteja.\n",
    "Poleg tega lahko s pomočjo teh podatkov razvijemo vizualizacije, ustvarimo modele in izvedemo različne statistične analize za razumevanje trendov in vzorcev v rezultatih olimpijskih iger. Ključno je upoštevati morebitne izzive, kot so nekonsistentnost imen držav, ki lahko vplivajo na natančnost in interpretacijo analiz.\n"
   ]
  },
  {
   "cell_type": "markdown",
   "metadata": {},
   "source": [
    "### Opis podatkov"
   ]
  },
  {
   "cell_type": "markdown",
   "metadata": {},
   "source": [
    "#### Olimpijske medalje"
   ]
  },
  {
   "cell_type": "markdown",
   "metadata": {},
   "source": [
    "Zbirka podatkov o olimpijskih medaljah vsebuje informacije o vseh podeljenih medaljah v zgodovini olimpijskih iger. Podatki v zbirki vključujejo naslednje kategorije:\n",
    "\n",
    "1. **Olimpijada**: Pove v kateri olimpijadi se je medalja osvojila, na primer Atene 1896\n",
    "2. **Discipline**: To polje označuje vrsto športa, v katerem je potekalo tekmovanje (na primer tenis).\n",
    "3. **Tekmovanje**: Ta kategorija identificira, ali je bilo tekmovanje moško, žensko ali morda mešano.\n",
    "4. **Ime**: To polje vsebuje ime tekmovalca ali ekipe, ki je prejela olimpijsko medaljo.\n",
    "5. **Vrsta medalje**: Označuje, ali je bila osvojena zlata, srebrna ali bronasta medalja.\n",
    "6. **Lokacija**: Navedba mesta, kjer so potekale olimpijske igre, na primer Atene.\n",
    "7. **Letnica**: Letnica, v kateri so bile olimpijske igre izvedene, na primer 1896.\n",
    "8. **Sezona**: Poletna izvedba ali zimska izvedba iger\n",
    "9. **Spol**: Moški ali ženska\n",
    "10. **Koda**: 3-črkovna koda države\n",
    "11. **Država**: Polno ime države/komiteja\n",
    "12. **Tip komiteja**: Pove ali je komite država ali neka posebna entiteta\n",
    "\n",
    "\n",
    "Z zbirko podatkov o olimpijskih medaljah lahko raziskujemo, kdo je bil najbolj uspešen v različnih športih, ali pa kako so se uspehi spreminjali skozi leta. Na primer, lahko pogledamo, kateri šport je bil najbolj priljubljen v določenem obdobju ali kako so se države odrezale glede na število zlatih, srebrnih in bronastih medalj. Res je zanimivo videti, kako so se olimpijske igre razvijale skozi čas in kdo so bili najboljši tekmovalci v različnih obdobjih.\n",
    "\n",
    "Podatke smo dobili iz spletne strani kaggle, ki ponuja veliko različnih zbirk podatkov. Izbira zbirke je bila lahka saj je tema zanimiva ter ima dovolj možnosti za razkrivanje statistik skozi leta. \n",
    "\n",
    "Podatki so podani v .csv obliki.\n"
   ]
  },
  {
   "cell_type": "markdown",
   "metadata": {},
   "source": [
    "#### Podatki držav"
   ]
  },
  {
   "cell_type": "markdown",
   "metadata": {},
   "source": [
    "Zraven glavne zbirke podatkov o olimpijskih igrah, smo uporabili tudi zbirko podatkov o državah, zato, da smo lahko izvedeli več informacij.\n",
    "\n",
    "Zbirka ima veliko atributov ampak mi smo jih uporabili samo nekaj:\n",
    "\n",
    "1. **Mesto**: Identifikacijska številka za vsako državo ali regijo.\n",
    "\n",
    "5. **Prebivalstvo 2023**: Število prebivalcev v letu 2023.\n",
    "\n",
    "9. **Država**: Ime države.\n",
    "\n",
    "12. **Koda CCA2**: Dvopismenska koda države po standardu ISO 3166-1 alfa-2.\n",
    "\n",
    "13. **Koda CCA3**: Tropismenska koda države po standardu ISO 3166-1 alfa-3.\n",
    "\n",
    "14. **Članica OZN**: Ali je država članica Organizacije združenih narodov (OZN).\n",
    "\n",
    "\n",
    "Tudi ta zbirka je podavana v .csv obliki."
   ]
  },
  {
   "cell_type": "markdown",
   "metadata": {},
   "source": [
    "### Problemi podatkov"
   ]
  },
  {
   "cell_type": "markdown",
   "metadata": {},
   "source": [
    "Problem pri teh podatkih je lahko v nedosledni ali nepopolni obliki imen držav. To lahko vključuje različne oblike imen iste države (na primer \"Slovenia\", \"SLO\", \"Slovenija\") ali pa prisotnost različnih imen za isto državo zaradi sprememb imen ali teritorialnih sprememb skozi čas (Jugoslavija). Ta nekonsistentnost v imenovanju lahko povzroči težave pri iskanju in primerjanju podatkov med različnimi viri ali pri izvajanju analize podatkov. Pomembno je, da se te težave prepoznajo in obravnavajo pri delu s podatki, da se zagotovi natančna in zanesljiva analiza.\n",
    "\n",
    "Problem je v tem, da so podatki o zmagovalcih zelo raznoliki in vključujejo tako posamezne športnike kot tudi ekipe ali skupine športnikov. To lahko povzroči težave pri analizi podatkov na ravni posameznega tekmovalca, saj so nekateri zmagovalci zapisani kot države, drugi pa kot imena ekip ali skupin športnikov.\n",
    "\n",
    "Zaradi tega je težko dobiti natančne podatke o uspehu posameznega tekmovalca, saj moramo najprej ločiti posamezne tekmovalce od ekip ali skupin športnikov v podatkih. To zahteva dodatno obdelavo podatkov, kot je filtriranje ali razvrščanje po določenih kriterijih, kar lahko včasih privede do izgube ali nepopolnih informacij.\n",
    "\n",
    "Poleg tega lahko raznolikost v zapisu zmagovalcev oteži primerjavo ali združevanje podatkov med različnimi viri ali obdobji, kar lahko vpliva na celovitost in zanesljivost analiz. Zato je pomembno, da se zavedamo teh izzivov in uporabimo ustrezne tehnike obdelave podatkov za dosego želenih analitičnih ciljev.\n"
   ]
  },
  {
   "cell_type": "markdown",
   "metadata": {},
   "source": [
    "### Analiza podatkov"
   ]
  },
  {
   "cell_type": "markdown",
   "metadata": {},
   "source": [
    "#### Analiza disciplin"
   ]
  },
  {
   "cell_type": "markdown",
   "metadata": {},
   "source": [
    "Začeli smo z presikovanjem podatkov o disciplinah. Zanimalo nas je, koliko je bilo vseh različnih disciplin, kar je doprineslo do števila 85. Olimpijske igre se delijo na poletne in zimske, zato nas je zanimalo, koliko je bilo vseh različnih disciplin pri vsakih od teh dveh, kjer smo dobili, da je bilo na poletnih 68 in na zimskih 17. Ta rezultat ni bil pričakovan, saj seštevek teh dveh števil je 85, kar je 3 več kot pa je bilo vseh disciplin. To se je zgodilo zaradi treh disciplin, ki so se pojavile na obeh poletnih in zimskih igrah. Te discipline so alpinizem, umetnostno drsanje in hokej na ledu. Tako lahko razumemo, da je število različnih disciplin 82, če upoštevamo, da nekatere discipline nastopajo na obeh izvedbah olimpijskih iger."
   ]
  },
  {
   "cell_type": "markdown",
   "metadata": {},
   "source": [
    "##### Tekmovanja glede na disciplino"
   ]
  },
  {
   "cell_type": "markdown",
   "metadata": {},
   "source": [
    "Podatki kažejo, da ima atletika daleč največ tekmovanj na olimpijskih igrah, s skupno 3082 tekmovanji. Sledi ji plavanje s 1762 tekmovanji in rokoborba s 1356 tekmovanji. Atletika izstopa zaradi širokega spektra dogodkov, ki vključujejo teke na različne razdalje, skoke, mete in večboje. Plavanje je prav tako raznoliko, s številnimi disciplinami, kot so različni slogi plavanja in štafetne tekme. Rokoborba ima dolgo tradicijo na olimpijskih igrah, kar pojasnjuje veliko število tekmovanj. Na drugem koncu spektra so discipline, kot so baskovska pelota, aeronavtika, kriket, motorizacija in konjska vprega, ki so bile na olimpijskih igrah predstavljene le enkrat ali dvakrat. To kaže na raznolikost in razvoj športov skozi zgodovino olimpijskih iger."
   ]
  },
  {
   "cell_type": "markdown",
   "metadata": {},
   "source": [
    "#### Analiza držav"
   ]
  },
  {
   "cell_type": "markdown",
   "metadata": {},
   "source": [
    "Na področju ekipnih športov izstopa ZDA kot najuspešnejša država na olimpijskih igrah. Ameriške ekipe so dosledno dominirale v različnih športih, vključno s košarko, plavanjem, atletiko in gimnastiko. Zda so dosegle skoraj 500 zmag medtem, ko je drugouvrščena Nemčija osvojila okoli 250."
   ]
  },
  {
   "cell_type": "markdown",
   "metadata": {},
   "source": [
    "#### Najuspešnejši olimpijski športnik"
   ]
  },
  {
   "cell_type": "markdown",
   "metadata": {},
   "source": [
    "Najuspešnejši olimpijski športnik vseh časov je ameriški plavalec Michael Phelps. S svojo izjemno kariero je postavil nove mejnike v zgodovini olimpijskih iger. Phelps je osvojil skupno 28 olimpijskih medalj, od tega kar 23 zlatih, kar je največ v zgodovini olimpijskih iger. Njegove medalje so razdeljene med tri olimpijske igre: Atene 2004, Peking 2008, London 2012 in Rio de Janeiro 2016."
   ]
  },
  {
   "cell_type": "markdown",
   "metadata": {},
   "source": [
    "#### Najuspešnejše države"
   ]
  },
  {
   "cell_type": "markdown",
   "metadata": {},
   "source": [
    "Najuspešnejše države na področju športa so tiste z največjim številom osvojenih medalj na mednarodnih tekmovanjih. Kljub korelaciji med skupnim številom medalj in zlatimi medaljami se vrstni red držav lahko razlikuje. Poleg tega je pomembno opazovati raznolikost dosežkov v različnih disciplinah, kar nam omogoča vpogled v specializacijo držav. Na primer, med državami z največ zlatimi medaljami izstopajo Kosovo, Fiji, Ecuador, Bermuda in Surinam. Ta analiza nam pomaga bolje razumeti globalno sliko športnih dosežkov."
   ]
  },
  {
   "cell_type": "markdown",
   "metadata": {},
   "source": [
    "Začeli smo s seštevanjem števila pridobljenih kolajn za vsako državo, kjer je ponovno daleč pred vsemi ZDA, ki ima skoraj 3000 kolajn, in drugo uvrščena Sovjetska Zveza okoli 1200. Četudi bi sešteli vse kolajne, ki jih je prejela Rusija, pridemo do števila 1800 kolajn. Od tretjega mesta naprej se razlika v kolajnah znatno zmanjša. \n",
    "Nato smo želeli še preveriti, če pride do kakšnih razlik v številu zlatih kolajn na državo. Ugotovili smo, da tukaj ZDA še bolj dominirajo, saj imajo skoraj trikrat toliko medalj kot Sovjetska zveza. Ostale države nimajo kakšnih večjih sprememb in ostanejo večinokrat na istem mestu. "
   ]
  },
  {
   "cell_type": "markdown",
   "metadata": {},
   "source": [
    "Ugotoviti smo želeli tudi, v koliko različnih disciplinah je kakšna država zmagala. Zaradi omejenega števila disciplin je tukaj porazdelitev zelo bolj linearna in sledi rezultatom števila kolajn."
   ]
  },
  {
   "cell_type": "markdown",
   "metadata": {},
   "source": [
    "##### Rezultati glede na število prebivalcev"
   ]
  },
  {
   "cell_type": "markdown",
   "metadata": {},
   "source": [
    "Analiza števila medalj na milijon prebivalcev razkriva zanimive podatke o uspešnosti držav na olimpijskih igrah. Liechtenstein izstopa kot najuspešnejša država, saj dosega izjemnih 252 medalj na milijon prebivalcev. Slovenija se uvršča na 18. mesto s solidnih 24 medaljami na milijon prebivalcev, kar potrjuje njen športni potencial. Ko pa omejimo analizo na države z vsaj milijon prebivalcev, Slovenija napreduje na 13. mesto, kar poudarja njeno relativno visoko uspešnost v primerjavi z državami podobne velikosti. Te podatke je ključno upoštevati pri primerjavi športnih dosežkov med različnimi državami, saj nam omogočajo bolj natančen vpogled v športno uspešnost glede na velikost prebivalstva."
   ]
  },
  {
   "cell_type": "markdown",
   "metadata": {},
   "source": [
    "#### Porazdelitev medalj"
   ]
  },
  {
   "cell_type": "markdown",
   "metadata": {},
   "source": [
    "Porazdelitev olimpijskih medalj po državah razkriva, katere države so bile najuspešnejše v zgodovini olimpijskih iger. Na vrhu seznama so ZDA z impresivnimi 2827 medaljami, od katerih je 1127 zlatih, 907 srebrnih in 793 bronastih. Sledi Sovjetska zveza (ZSSR), ki je zbrala skupno 1204 medalje, vključno s 473 zlatimi, 376 srebrnimi in 355 bronastimi. Nemčija, ki vključuje medalje Nemčije, Vzhodne Nemčije in Zahodne Nemčije, je osvojila skupno 1356 medalj, med njimi 428 zlatih, 444 srebrnih in 484 bronastih. Večino večjih držav ima vrste medalj skoraj popolnoma enakomerno porazdeljene."
   ]
  },
  {
   "cell_type": "markdown",
   "metadata": {},
   "source": [
    "### Slovenija"
   ]
  },
  {
   "cell_type": "markdown",
   "metadata": {},
   "source": [
    "Slovenija ni vedno tekmovala pod lastnim imenom, saj je prej spadala pod Jugoslavijo. Zato je težko sešteti vse kolajne, ki jih je prejela. Analiza je bila narejena, samo glede na podatke po osamosvojitvi, razen, kjer je eksplicitno napisano, da se štejejo tudi dosežki z Jugoslavijo. "
   ]
  },
  {
   "cell_type": "markdown",
   "metadata": {},
   "source": [
    "Skupno je Slovenija, vključno z medaljami osvojenimi pod Jugoslavijo, pridobila 139 olimpijskih medalj. Po osamosvojitvi pa je Slovenija nadaljevala svojo športno tradicijo in samostojno osvojila 52 medalj. Ta dosežek odraža vztrajnost, talent in predanost slovenskih športnikov na največjem svetovnem športnem prizorišču."
   ]
  },
  {
   "cell_type": "markdown",
   "metadata": {},
   "source": [
    "Število osvojenih medalj, nas je presenetilo, saj je to zelo dober izkupiček glede na velikost države in njeno starost."
   ]
  },
  {
   "cell_type": "markdown",
   "metadata": {},
   "source": [
    "Slovenija ima zanimivo porazdelitev medalj, saj je med osvojenimi odličji najmanj zlatih in največ bronastih kolajn. Odstotek zlatih medalj, ki jih je osvojila Slovenija, znaša 23,08%, kar jo po tem merilu uvršča na 50. mesto med vsemi državami. Ta statistika kaže, da se slovenski športniki pogosto uvrščajo na stopničke, vendar nekoliko redkeje posegajo po najvišji, zlati stopnički. "
   ]
  },
  {
   "cell_type": "markdown",
   "metadata": {},
   "source": [
    "### Napovedovanje"
   ]
  },
  {
   "cell_type": "markdown",
   "metadata": {},
   "source": [
    "Zaradi velike količine podatkov, lahko naredimo tudi napovedovalni model, ki bi lahko predstavil nekaj zanimivih statistik za naslednje olimpijske igre. Za napovedovanje smo oporabili scikit-learn ter\n",
    "statsmodels. "
   ]
  },
  {
   "cell_type": "markdown",
   "metadata": {},
   "source": [
    "Na podlagi napovedi naj bi posamezne države na naslednjih olimpijskih igrah osvojile določeno število medalj, pri čemer naj bi ZDA osvojile 55, Nemčija 53, Velika Britanija 52, Kitajska 51, Francija 50, Italija 49, Švedska 48, Norveška 47, Japonska 44 in Madžarska 43 medalj. Glede na napovedi naj bi Slovenija osvojila 10 zlatih medalj, kar je precej več kot v zadnjih poletnih olimpijskih igrah, kjer je osvojila 5 zlatih medalj. To kaže na optimistične projekcije za slovenske športnike v primerjavi z njihovimi preteklimi dosežki."
   ]
  },
  {
   "cell_type": "markdown",
   "metadata": {},
   "source": [
    "Poizkusili smo tudi napovedati, kdo bo zmagal v nogometu. Tukaj gledamo samo podatke iz olimpjskih iger od leta 2000 naprej. Model je napovedal, da bi morala zmagati Brazilija s kar 28.57%, kar je dvakrat toliko kot drugouvrščena Španija z 14.28%. Ker olimpijske igre niso pri nogometu zelo pomembne je tak rezultat tudi zelo možen, saj se glavni favoriti ponavadi ne pripravljajo na to tekmovanje."
   ]
  },
  {
   "cell_type": "markdown",
   "metadata": {},
   "source": [
    "### Zimske in poletne igre"
   ]
  },
  {
   "cell_type": "markdown",
   "metadata": {},
   "source": [
    "Ker sta zimske in poletne igre različna dogodka, je zanimivo pogledati, koliko tekmovanj se je izvajalo v vsaki od iger."
   ]
  },
  {
   "cell_type": "markdown",
   "metadata": {},
   "source": [
    "Po pregledu zgodovine olimpijskih iger je jasno, da je večina pozornosti in števila tekmovanj namenjena poletnim igram, ki so se doslej odvile že 30-krat, medtem ko so zimske igre gostile 24 dogodkov. Kljub temu pa je zanimivo opaziti, da nekatere države, kot sta Norveška in Avstrija, izstopajo s svojim številom medalj na zimskih igrah, kar kaže na njihovo izjemno moč v zimskih športih. Slovenija, čeprav manjša država, se v tem kontekstu izkaže kot izjemna, saj je njeno število medalj skoraj enakovredno tako na poletnih kot tudi na zimskih igrah. Graf, ki prikazuje razporeditev medalj, dodatno potrjuje večjo pomembnost poletnih iger, saj je večina medalj podeljenih na teh dogodkih. Kljub temu je opazno, da ima Slovenija izjemno močan nastop na zimskih igrah, saj skoraj polovico svojih medalj osvoji prav na teh dogodkih, kar je izjemen dosežek za tako majhno državo. Ta analiza kaže na raznolikost in moč različnih držav v različnih disciplinah, kar olimpijske igre naredi za edinstveno platformo za mednarodno tekmovanje in sodelovanje."
   ]
  },
  {
   "cell_type": "markdown",
   "metadata": {},
   "source": [
    "### Impresivne in presenetljive statistike"
   ]
  },
  {
   "cell_type": "markdown",
   "metadata": {},
   "source": [
    "- Dominacija ZDA: Skoraj 3000 osvojenih medalj, od katerih je več kot 1000 zlatih, kar predstavlja največji dosežek med vsemi državami.\n",
    "- Medalje na prebivalca: Liechtenstein z 252 medaljami na milijon prebivalcev izstopa kot najuspešnejša država v tej kategoriji.\n",
    "- Relativna uspešnost Slovenije: Slovenija se uvršča na visoko 13. mesto po številu medalj na milijon prebivalcev med državami z vsaj milijon prebivalcev.\n",
    "- Phelpsov rekord: 28 olimpijskih medalj, vključno s 23 zlatimi, je mejnik, ki bo težko presežen v prihodnosti."
   ]
  },
  {
   "cell_type": "markdown",
   "metadata": {},
   "source": [
    "### Zaključek"
   ]
  },
  {
   "cell_type": "markdown",
   "metadata": {},
   "source": [
    "Analiza olimpijskih medalj in držav, ki so jih osvojile, poudarja pomembnost doslednosti, pripravljenosti in predanosti športnikov ter njihovih držav. Raznolikost športov in disciplin na olimpijskih igrah omogoča širok spekter analiz, ki razkrivajo tako zgodovinske trende kot potencialne prihodnje uspehe. Te analize nam omogočajo boljše razumevanje globalne športne scene in vlogo, ki jo igrajo olimpijske igre pri združevanju držav in športnikov po vsem svetu."
   ]
  }
 ],
 "metadata": {
  "kernelspec": {
   "display_name": "Python 3 (ipykernel)",
   "language": "python",
   "name": "python3"
  },
  "language_info": {
   "codemirror_mode": {
    "name": "ipython",
    "version": 3
   },
   "file_extension": ".py",
   "mimetype": "text/x-python",
   "name": "python",
   "nbconvert_exporter": "python",
   "pygments_lexer": "ipython3",
   "version": "3.12.2"
  }
 },
 "nbformat": 4,
 "nbformat_minor": 4
}
