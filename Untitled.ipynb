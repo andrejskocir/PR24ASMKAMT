{
 "cells": [
  {
   "cell_type": "markdown",
   "id": "a128a038-4206-49de-b6e6-31e82451ce3c",
   "metadata": {},
   "source": [
    "OLYMPICS"
   ]
  }
 ],
 "metadata": {
  "kernelspec": {
   "display_name": "Python 3 (ipykernel)",
   "language": "python",
   "name": "python3"
  },
  "language_info": {
   "codemirror_mode": {
    "name": "ipython",
    "version": 3
   },
   "file_extension": ".py",
   "mimetype": "text/x-python",
   "name": "python",
   "nbconvert_exporter": "python",
   "pygments_lexer": "ipython3",
   "version": "3.12.2"
  }
 },
 "nbformat": 4,
 "nbformat_minor": 5
}
